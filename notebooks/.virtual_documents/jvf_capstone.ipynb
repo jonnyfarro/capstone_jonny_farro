import pandas as pd
import seaborn as sns
import matplotlib.pyplot as plt


protein_one = pd.read_csv('/Users/jonathanfarro/Desktop/animal-protein-consumption.csv')

life_ex = pd.read_csv('/Users/jonathanfarro/Desktop/ Capstone Files/life-expectancy (1)/life-expectancy.csv')

usa_pricing = pd.read_csv('/Users/jonathanfarro/Desktop/ Capstone Files/average_prices_for_food.csv')

daily_cals = pd.read_csv('/Users/jonathanfarro/Desktop/ Capstone Files/daily-caloric-supply-derived-from-carbohydrates-protein-and-fat.csv')

fruit_per_cap = pd.read_csv('/Users/jonathanfarro/Desktop/ Capstone Files/fruit-consumption-per-capita.csv')

veg_per_cap = pd.read_csv('/Users/jonathanfarro/Desktop/ Capstone Files/vegetable-consumption-per-capita/vegetable-consumption-per-capita.csv' )

vitamins =  pd.read_excel('/Users/jonathanfarro/Desktop/ Capstone Files/food_comp.xlsx')

protein_per_GDP = pd.read_csv('/Users/jonathanfarro/Desktop/ Capstone Files/per-capita-sources-of-protein/per-capita-sources-of-protein.csv')

population = pd.read_csv('/Users/jonathanfarro/Desktop/ Capstone Files/population-long-run-with-projections.csv')


# rename columns to something easier to work with 

protein = protein_one.rename(columns={
                        protein_one.columns[3]:'fish',
                        protein_one.columns[4]:'poultry',
                        protein_one.columns[5]:'pork',
                        protein_one.columns[6]:'beef',
                        protein_one.columns[7]:'sheep/goat',
                        protein_one.columns[8]:'other',
                        protein_one.columns[9]:'eggs',
                        protein_one.columns[10]:'milk'
                       })



#clean up column titles
protein = protein.rename(columns=lambda x: x.lower())
protein = protein.map(lambda x: x.lower() if isinstance(x, str) else x).reset_index(drop=True)



protein['total_protein'] = protein.iloc[:, 3:11].sum(axis = 1).round(2)
protein


world_protein = protein.loc[protein['entity']== "world"]
world_protein = world_protein.map(lambda x: x.lower() if isinstance(x, str) else x).reset_index(drop=True)
world_protein


max_pro = protein.loc[protein['total_protein'] == protein['total_protein'].max()]
min_pro = protein.loc[protein['total_protein'] == protein['total_protein'].min()]
print(f" { max_pro.entity.item()} consumed the most protein over a year per person in {max_pro.year.item()} ")
print(f" { min_pro.entity.item()} consumed the least protein over a year per person in {min_pro.year.item()} ")


sns.barplot(yearly_protein_USA.groupby(['Entity','Year']).sum())
plt.xticks(rotation=20)


proteins_population.loc[proteins_population[['fish']].min()]


#loop to classify food groups? 


# cleaning population table 
population = population.rename(columns=lambda x: x.lower())


proteins_population = pd.merge(protein,population, on = ['entity','year','code'] ,how='outer')


population['year'].value_counts()



